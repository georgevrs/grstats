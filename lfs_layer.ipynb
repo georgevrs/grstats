{
 "cells": [
  {
   "cell_type": "code",
   "execution_count": null,
   "id": "90475b34",
   "metadata": {},
   "outputs": [],
   "source": [
    "import pandas as pd\n",
    "import numpy as np\n",
    "\n",
    "import warnings\n",
    "warnings.filterwarnings('ignore')\n",
    "\n",
    "\n",
    "from lfs_utils.lfs_annual_pipeline import run\n",
    "\n",
    "results = run()\n",
    "\n",
    "# Example: access dataframes & stats\n",
    "df_educ, stats_educ = results[\"educ\"]\n",
    "print(\"EDUC columns:\", list(df_educ.columns))\n",
    "print(\"EDUC stats:\", stats_educ)\n",
    "\n",
    "df_emp, stats_emp = results[\"emp\"]\n",
    "print(\"EMP columns:\", list(df_emp.columns))\n",
    "print(\"EMP stats:\", stats_emp)\n",
    "\n",
    "df_job, stats_job = results[\"job\"]\n",
    "print(\"JOB columns:\", list(df_job.columns))\n",
    "print(\"JOB stats:\", stats_job)\n",
    "\n",
    "df_demo, stats_demo = results[\"demo\"]\n",
    "print(\"DEMO columns:\", list(df_demo.columns))\n",
    "print(\"DEMO stats:\", stats_demo)\n",
    "\n",
    "df_popul, stats_popul = results[\"popul\"]\n",
    "print(\"POPUL columns:\", list(df_popul.columns))\n",
    "print(\"POPUL stats:\", stats_popul)\n",
    "\n",
    "df_lfs_status, stats_lfs_status = results[\"status\"]\n",
    "print(\"STATUS columns:\", list(df_lfs_status.columns))\n",
    "print(\"STATUS stats:\", stats_lfs_status)\n"
   ]
  }
 ],
 "metadata": {
  "kernelspec": {
   "display_name": "Python 3",
   "language": "python",
   "name": "python3"
  },
  "language_info": {
   "codemirror_mode": {
    "name": "ipython",
    "version": 3
   },
   "file_extension": ".py",
   "mimetype": "text/x-python",
   "name": "python",
   "nbconvert_exporter": "python",
   "pygments_lexer": "ipython3",
   "version": "3.12.6"
  }
 },
 "nbformat": 4,
 "nbformat_minor": 5
}
